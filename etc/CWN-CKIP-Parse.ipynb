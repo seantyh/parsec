{
 "cells": [
  {
   "cell_type": "code",
   "execution_count": 1,
   "id": "1bd71688-f9a6-4d50-948a-241b45d194cd",
   "metadata": {},
   "outputs": [],
   "source": [
    "import re\n",
    "import json\n",
    "import socket\n",
    "from pathlib import Path\n",
    "from CwnGraph import CwnBase\n",
    "from tqdm.auto import tqdm"
   ]
  },
  {
   "cell_type": "code",
   "execution_count": 38,
   "id": "f0c85fc2-358e-40ec-b869-3628967d4893",
   "metadata": {},
   "outputs": [],
   "source": [
    "def build_xml(content):\n",
    "    request_xml = \"\"\"\n",
    "<?xml version=\"1.0\" ?>\n",
    "<wordsegmentation version=\"0.1\">\n",
    "<option showcategory=\"2\" />\n",
    "<authentication username=\"seantyh\" password=\"33669904\" />\n",
    "<text>{}</text>\n",
    "</wordsegmentation>\n",
    "    \"\"\"\n",
    "    return request_xml.format(content)\n",
    "\n",
    "def parse_def(sock, text):\n",
    "    try:\n",
    "        request_xml = build_xml(text)\n",
    "        sock.sendall(request_xml.encode(\"big5\"))\n",
    "    \n",
    "        buf_size = 32\n",
    "        data = b\"\"\n",
    "        while True:\n",
    "            received = sock.recv(buf_size)                \n",
    "            data += received    \n",
    "            if data.endswith(b\"\\r\\n\"):\n",
    "                break\n",
    "\n",
    "    except Exception as ex:\n",
    "        print(\"ERROR: \", ex)\n",
    "        data = b\"\"\n",
    "    xml = data.decode(\"big5\")\n",
    "    sentences = re.findall(\"<sentence>(.*?)</sentence>\", xml)\n",
    "    return sentences, xml\n",
    "\n",
    "def split_batch(batch, sep=None):\n",
    "    if sep is None:\n",
    "        sep = \"S(NP(Head:N:你)|Head:Vi:好)#。(PERIODCATEGORY)\"\n",
    "    groups = []\n",
    "    buf = []\n",
    "    for x in batch:\n",
    "        if sep in x:\n",
    "            groups.append(buf)\n",
    "            buf = []\n",
    "        else:\n",
    "            buf.append(x)\n",
    "    if buf:\n",
    "        groups.append(buf)\n",
    "    return groups"
   ]
  },
  {
   "cell_type": "code",
   "execution_count": 39,
   "id": "c85faeef-f5e0-4d59-be75-b3184f0b3807",
   "metadata": {},
   "outputs": [],
   "source": [
    "## preparing definitions\n",
    "cwn = CwnBase()\n",
    "senses = cwn.get_all_senses()\n",
    "all_defs = list(set(x.definition for x in senses if x.definition))"
   ]
  },
  {
   "cell_type": "code",
   "execution_count": 40,
   "id": "6a66e3d9-abab-4592-ad92-43d9f5aad8da",
   "metadata": {},
   "outputs": [
    {
     "name": "stdout",
     "output_type": "stream",
     "text": [
      "connecting to 140.109.19.112 port 8000\n"
     ]
    }
   ],
   "source": [
    "with socket.socket(socket.AF_INET, socket.SOCK_STREAM) as sock:\n",
    "    server_address = ('140.109.19.112', 8000)\n",
    "    print('connecting to %s port %s' % server_address)\n",
    "    sock.connect(server_address)\n",
    "    \n",
    "    batch_size = 1\n",
    "    def_batch = all_defs[100:103]\n",
    "    results, raw_resp = parse_def(sock, \"\\r\\n你好。\\r\\n\".join(def_batch))"
   ]
  },
  {
   "cell_type": "code",
   "execution_count": 41,
   "id": "3e44f3ec-3cf1-4ec7-83b3-571cc9ea3b5a",
   "metadata": {},
   "outputs": [
    {
     "data": {
      "text/plain": [
       "['#1:1.[0] S(NP(head:NP(DET:三|Head:N:國)|Head:T:之)|Head:DET:一)#，(COMMACATEGORY)',\n",
       " '#2:1.[0] NP(Head:NP(N:西元|Head:N:221年)|PP(Head:P:至|NP(N:西元|Head:N:264年)))#，(COMMACATEGORY)',\n",
       " '#3:1.[0] S(NP(Head:N:劉備)|ADV:所|Head:Vt:建)#。(PERIODCATEGORY)',\n",
       " '#4:1.[0] S(NP(Head:N:你)|Head:Vi:好)#。(PERIODCATEGORY)',\n",
       " '#5:1.[0] VP(Head:Vt:瞞|ASP:著|NP(N:後述|Head:N:對象)|VP(Head:Vt:做|NP(Head:N:事)))#。(PERIODCATEGORY)',\n",
       " '#6:1.[0] S(NP(Head:N:你)|Head:Vi:好)#。(PERIODCATEGORY)',\n",
       " '#7:1.[0] S(NP(VP(Vi:囉囉嗦嗦|Head:Vt:說)|Head:M:個)|Head:Vi:不停)#。(PERIODCATEGORY)']"
      ]
     },
     "execution_count": 41,
     "metadata": {},
     "output_type": "execute_result"
    }
   ],
   "source": [
    "results"
   ]
  },
  {
   "cell_type": "code",
   "execution_count": 42,
   "id": "7f3d493d-93a4-448a-9622-90d9b010c27a",
   "metadata": {},
   "outputs": [
    {
     "data": {
      "text/plain": [
       "'<?xml version=\"1.0\" ?><wordsegmentation version=\"0.1\" charsetcode=\"big5\" istag=\"0\"><processstatus code=\"0\">Success</processstatus><result><sentence>#1:1.[0] S(NP(head:NP(DET:三|Head:N:國)|Head:T:之)|Head:DET:一)#，(COMMACATEGORY)</sentence><sentence>#2:1.[0] NP(Head:NP(N:西元|Head:N:221年)|PP(Head:P:至|NP(N:西元|Head:N:264年)))#，(COMMACATEGORY)</sentence><sentence>#3:1.[0] S(NP(Head:N:劉備)|ADV:所|Head:Vt:建)#。(PERIODCATEGORY)</sentence><sentence>#4:1.[0] S(NP(Head:N:你)|Head:Vi:好)#。(PERIODCATEGORY)</sentence><sentence>#5:1.[0] VP(Head:Vt:瞞|ASP:著|NP(N:後述|Head:N:對象)|VP(Head:Vt:做|NP(Head:N:事)))#。(PERIODCATEGORY)</sentence><sentence>#6:1.[0] S(NP(Head:N:你)|Head:Vi:好)#。(PERIODCATEGORY)</sentence><sentence>#7:1.[0] S(NP(VP(Vi:囉囉嗦嗦|Head:Vt:說)|Head:M:個)|Head:Vi:不停)#。(PERIODCATEGORY)</sentence></result><ehownet word=\"\" cate=\"\" pos=\"\" sense=\"\" st=\"\" class=\"\" st2=\"\" rule=\"\" lc=\"\" rc=\"\" autotag=\"\"/></wordsegmentation>\\r\\n'"
      ]
     },
     "execution_count": 42,
     "metadata": {},
     "output_type": "execute_result"
    }
   ],
   "source": [
    "raw_resp"
   ]
  },
  {
   "cell_type": "code",
   "execution_count": 32,
   "id": "e98d46d4-704d-428b-9bb5-9aea45e7b3fe",
   "metadata": {},
   "outputs": [],
   "source": [
    "def_batch = all_defs[100:103]"
   ]
  },
  {
   "cell_type": "code",
   "execution_count": 35,
   "id": "a55ade66-aa89-49ec-8bab-149d86e2145d",
   "metadata": {},
   "outputs": [
    {
     "data": {
      "text/plain": [
       "[['#1:1.[0] S(NP(head:NP(DET:三|Head:N:國)|Head:T:之)|Head:DET:一)#，(COMMACATEGORY)',\n",
       "  '#2:1.[0] NP(Head:NP(N:西元|Head:N:221年)|PP(Head:P:至|NP(N:西元|Head:N:264年)))#，(COMMACATEGORY)',\n",
       "  '#3:1.[0] S(NP(Head:N:劉備)|ADV:所|Head:Vt:建)#。(PERIODCATEGORY)']]"
      ]
     },
     "execution_count": 35,
     "metadata": {},
     "output_type": "execute_result"
    }
   ],
   "source": [
    "split_batch(results[:3])"
   ]
  },
  {
   "cell_type": "code",
   "execution_count": 37,
   "id": "272409c9-8c6d-4f48-9ab1-2c91bb3006f3",
   "metadata": {},
   "outputs": [
    {
     "ename": "UnicodeEncodeError",
     "evalue": "'big5' codec can't encode character '\\u2027' in position 0: illegal multibyte sequence",
     "output_type": "error",
     "traceback": [
      "\u001b[0;31m---------------------------------------------------------------------------\u001b[0m",
      "\u001b[0;31mUnicodeEncodeError\u001b[0m                        Traceback (most recent call last)",
      "\u001b[0;32m/tmp/ipykernel_791377/208976334.py\u001b[0m in \u001b[0;36m<module>\u001b[0;34m\u001b[0m\n\u001b[0;32m----> 1\u001b[0;31m \u001b[0;34m\"\\u2027\"\u001b[0m\u001b[0;34m.\u001b[0m\u001b[0mencode\u001b[0m\u001b[0;34m(\u001b[0m\u001b[0;34m\"big5\"\u001b[0m\u001b[0;34m)\u001b[0m\u001b[0;34m\u001b[0m\u001b[0;34m\u001b[0m\u001b[0m\n\u001b[0m",
      "\u001b[0;31mUnicodeEncodeError\u001b[0m: 'big5' codec can't encode character '\\u2027' in position 0: illegal multibyte sequence"
     ]
    }
   ],
   "source": [
    "\"\\u2027\".encode(\"big5\")"
   ]
  },
  {
   "cell_type": "code",
   "execution_count": 33,
   "id": "0de0e578-9197-4de7-a3fe-908d9197b04a",
   "metadata": {},
   "outputs": [],
   "source": [
    "res_batch = split_batch(results)"
   ]
  },
  {
   "cell_type": "code",
   "execution_count": 34,
   "id": "c9e9b2e1-1fb9-4142-a53a-ee9aca008fab",
   "metadata": {},
   "outputs": [
    {
     "name": "stdout",
     "output_type": "stream",
     "text": [
      "三國之一，西元221年至西元264年，劉備所建。 ['#1:1.[0] S(NP(head:NP(DET:三|Head:N:國)|Head:T:之)|Head:DET:一)#，(COMMACATEGORY)', '#2:1.[0] NP(Head:NP(N:西元|Head:N:221年)|PP(Head:P:至|NP(N:西元|Head:N:264年)))#，(COMMACATEGORY)', '#3:1.[0] S(NP(Head:N:劉備)|ADV:所|Head:Vt:建)#。(PERIODCATEGORY)']\n",
      "瞞著後述對象做事。 ['#5:1.[0] VP(Head:Vt:瞞|ASP:著|NP(N:後述|Head:N:對象)|VP(Head:Vt:做|NP(Head:N:事)))#。(PERIODCATEGORY)']\n",
      "囉囉嗦嗦說個不停。 ['#7:1.[0] S(NP(VP(Vi:囉囉嗦嗦|Head:Vt:說)|Head:M:個)|Head:Vi:不停)#。(PERIODCATEGORY)']\n"
     ]
    }
   ],
   "source": [
    "for def_x, res_x in zip(def_batch, res_batch):\n",
    "    print(def_x, res_x)"
   ]
  },
  {
   "cell_type": "code",
   "execution_count": null,
   "id": "4e1c1de0-a6c4-4644-9ed6-d80f0a1d3184",
   "metadata": {},
   "outputs": [],
   "source": []
  },
  {
   "cell_type": "code",
   "execution_count": null,
   "id": "cfc726a6-5e60-478f-a551-dcb4a954d1cf",
   "metadata": {},
   "outputs": [],
   "source": []
  }
 ],
 "metadata": {
  "kernelspec": {
   "display_name": "Python 3 (ipykernel)",
   "language": "python",
   "name": "python3"
  },
  "language_info": {
   "codemirror_mode": {
    "name": "ipython",
    "version": 3
   },
   "file_extension": ".py",
   "mimetype": "text/x-python",
   "name": "python",
   "nbconvert_exporter": "python",
   "pygments_lexer": "ipython3",
   "version": "3.9.5"
  }
 },
 "nbformat": 4,
 "nbformat_minor": 5
}

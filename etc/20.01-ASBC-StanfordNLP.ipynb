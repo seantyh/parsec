{
 "cells": [
  {
   "cell_type": "code",
   "execution_count": 1,
   "id": "835c3638-cd3d-4d96-b892-c19632612877",
   "metadata": {},
   "outputs": [],
   "source": [
    "import sys\n",
    "sys.path.append(\"../../pyASBC/src\")\n",
    "sys.path.append(\"../src\")\n",
    "import os\n",
    "import re\n",
    "from itertools import islice\n",
    "from tqdm.auto import tqdm\n",
    "import pyASBC\n",
    "import opencc\n",
    "from stanza.server import CoreNLPClient\n",
    "from stanford_utils import *"
   ]
  },
  {
   "cell_type": "code",
   "execution_count": 2,
   "id": "3b0ebc8a-d876-4110-851d-ba1693e5f7a1",
   "metadata": {},
   "outputs": [],
   "source": [
    "os.environ[\"CORENLP_HOME\"] = os.path.expanduser(\"~/etc/stanford-corenlp-4.4.0\")\n",
    "t2s = opencc.OpenCC('t2s.json')"
   ]
  },
  {
   "cell_type": "code",
   "execution_count": 3,
   "id": "4cad21b7-442c-4b60-892b-fc35023775af",
   "metadata": {},
   "outputs": [],
   "source": [
    "import logging\n",
    "logging.getLogger().setLevel(\"WARNING\")"
   ]
  },
  {
   "cell_type": "markdown",
   "id": "1f6c5411-5091-4aa7-b20e-2ce35dbe3bf9",
   "metadata": {},
   "source": [
    "## Basic Stat"
   ]
  },
  {
   "cell_type": "code",
   "execution_count": 4,
   "id": "98d65e51-e249-4c16-be56-19762e0630b0",
   "metadata": {},
   "outputs": [
    {
     "data": {
      "text/plain": [
       "15529165"
      ]
     },
     "execution_count": 4,
     "metadata": {},
     "output_type": "execute_result"
    }
   ],
   "source": [
    "# iterate through all corpus, takes some time.\n",
    "asbc = pyASBC.Asbc5Corpus(\"../../pyASBC/data/\")\n",
    "sum(1 for x in asbc.iter_characters())"
   ]
  },
  {
   "cell_type": "markdown",
   "id": "5a971b50-3e46-4a90-b41e-c556adcd6ee4",
   "metadata": {},
   "source": [
    "## Testing"
   ]
  },
  {
   "cell_type": "code",
   "execution_count": 4,
   "id": "c1cbb0f9-ea9e-4331-9e70-58fd1d2c835a",
   "metadata": {},
   "outputs": [
    {
     "name": "stderr",
     "output_type": "stream",
     "text": [
      "2022-03-02 12:20:51 INFO: Using CoreNLP default properties for: chinese.  Make sure to have chinese models jar (available for download here: https://stanfordnlp.github.io/CoreNLP/) in CLASSPATH\n",
      "2022-03-02 12:20:51 INFO: Starting server with command: java -Xmx6G -cp /home/seantyh/etc/stanford-corenlp-4.4.0/* edu.stanford.nlp.pipeline.StanfordCoreNLPServer -port 9000 -timeout 30000 -threads 5 -maxCharLength 100000 -quiet False -serverProperties chinese -annotators tokenize,ssplit,pos,parse,depparse -preload -outputFormat serialized\n",
      "[main] INFO CoreNLP - --- StanfordCoreNLPServer#main() called ---\n",
      "[main] INFO CoreNLP - Server default properties:\n",
      "\t\t\t(Note: unspecified annotator properties are English defaults)\n",
      "\t\t\tannotators = tokenize,ssplit,pos,parse,depparse\n",
      "\t\t\tcoref.algorithm = hybrid\n",
      "\t\t\tcoref.calculateFeatureImportance = false\n",
      "\t\t\tcoref.defaultPronounAgreement = true\n",
      "\t\t\tcoref.input.type = raw\n",
      "\t\t\tcoref.language = zh\n",
      "\t\t\tcoref.md.liberalChineseMD = false\n",
      "\t\t\tcoref.md.type = RULE\n",
      "\t\t\tcoref.path.word2vec = \n",
      "\t\t\tcoref.postprocessing = true\n",
      "\t\t\tcoref.print.md.log = false\n",
      "\t\t\tcoref.sieves = ChineseHeadMatch, ExactStringMatch, PreciseConstructs, StrictHeadMatch1, StrictHeadMatch2, StrictHeadMatch3, StrictHeadMatch4, PronounMatch\n",
      "\t\t\tcoref.useConstituencyTree = true\n",
      "\t\t\tcoref.useSemantics = false\n",
      "\t\t\tcoref.zh.dict = edu/stanford/nlp/models/dcoref/zh-attributes.txt.gz\n",
      "\t\t\tdepparse.language = chinese\n",
      "\t\t\tdepparse.model = edu/stanford/nlp/models/parser/nndep/UD_Chinese.gz\n",
      "\t\t\tentitylink.wikidict = edu/stanford/nlp/models/kbp/chinese/wikidict_chinese.tsv.gz\n",
      "\t\t\tinputFormat = text\n",
      "\t\t\tkbp.language = zh\n",
      "\t"
     ]
    },
    {
     "name": "stdout",
     "output_type": "stream",
     "text": [
      "分享给新进住民以及研究人员参考。\n"
     ]
    }
   ],
   "source": [
    "text = t2s.convert(\"分享給新進住民以及研究人員參考。\")\n",
    "# text = t2s.convert(\"我有一隻Ｊｏｈｎｎｙ貓\")\n",
    "with CoreNLPClient(properties=\"chinese\",\n",
    "        annotators=['tokenize','ssplit','pos','parse', 'depparse'],\n",
    "        timeout=30000,\n",
    "        memory='6G') as client:\n",
    "    ann = client.annotate(text)"
   ]
  },
  {
   "cell_type": "code",
   "execution_count": 5,
   "id": "617d8b3a-75e7-423a-9690-dd1cf44bbf98",
   "metadata": {},
   "outputs": [],
   "source": [
    "sent0 = ann.sentence[0]"
   ]
  },
  {
   "cell_type": "code",
   "execution_count": 6,
   "id": "04ea92c7-c074-4637-9f1a-f6e59307d182",
   "metadata": {},
   "outputs": [
    {
     "name": "stdout",
     "output_type": "stream",
     "text": [
      "NP\n",
      " ADJP\n",
      "  JJ-新进\n",
      " NP\n",
      "  NN-住民\n",
      "[('新进', '住民'), ('JJ', 'NN')]\n",
      "NP\n",
      " NN-研究\n",
      " NN-人员\n",
      "[('研究', '人员'), ('NN', 'NN')]\n"
     ]
    }
   ],
   "source": [
    "np_compounds = get_nodes(sent0.parseTree, is_np_compound)\n",
    "for np in np_compounds:\n",
    "    print_tree(np)\n",
    "    print(flatten_compound(np))\n"
   ]
  },
  {
   "cell_type": "code",
   "execution_count": 7,
   "id": "7db6e26a-d5b9-4211-b415-167aabffcc95",
   "metadata": {},
   "outputs": [
    {
     "data": {
      "text/plain": [
       "('ROOT',\n",
       " ('IP',\n",
       "  ('VP',\n",
       "   ('VV', '分享'),\n",
       "   ('VP',\n",
       "    ('PP',\n",
       "     ('VV', '给'),\n",
       "     ('NP',\n",
       "      ('NP', ('ADJP', ('JJ', '新进')), ('NP', ('NN', '住民'))),\n",
       "      ('CC', '以及'),\n",
       "      ('NP', ('NN', '研究'), ('NN', '人员')))),\n",
       "    ('VP', ('VV', '参考')))),\n",
       "  ('PU', '。')))"
      ]
     },
     "execution_count": 7,
     "metadata": {},
     "output_type": "execute_result"
    }
   ],
   "source": [
    "to_linear(sent0.parseTree)"
   ]
  },
  {
   "cell_type": "code",
   "execution_count": 9,
   "id": "14c87e8b-21f4-43a1-ae90-4ad5cb713169",
   "metadata": {},
   "outputs": [
    {
     "data": {
      "image/svg+xml": [
       "<svg baseProfile=\"full\" height=\"456px\" preserveAspectRatio=\"xMidYMid meet\" style=\"font-family: times, serif; font-weight:normal; font-style: normal; font-size: 16px;\" version=\"1.1\" viewBox=\"0,0,304.0,456.0\" width=\"304px\" xmlns=\"http://www.w3.org/2000/svg\" xmlns:ev=\"http://www.w3.org/2001/xml-events\" xmlns:xlink=\"http://www.w3.org/1999/xlink\"><defs /><svg width=\"100%\" x=\"0\" y=\"0em\"><defs /><text text-anchor=\"middle\" x=\"50%\" y=\"1em\">ROOT</text></svg><svg width=\"100%\" x=\"0%\" y=\"3em\"><defs /><svg width=\"100%\" x=\"0\" y=\"0em\"><defs /><text text-anchor=\"middle\" x=\"50%\" y=\"1em\">IP</text></svg><svg width=\"89.4737%\" x=\"0%\" y=\"3em\"><defs /><svg width=\"100%\" x=\"0\" y=\"0em\"><defs /><text text-anchor=\"middle\" x=\"50%\" y=\"1em\">VP</text></svg><svg width=\"11.7647%\" x=\"0%\" y=\"3em\"><defs /><svg width=\"100%\" x=\"0\" y=\"0em\"><defs /><text text-anchor=\"middle\" x=\"50%\" y=\"1em\">VV</text></svg><svg width=\"100%\" x=\"0%\" y=\"3em\"><defs /><svg width=\"100%\" x=\"0\" y=\"0em\"><defs /><text text-anchor=\"middle\" x=\"50%\" y=\"1em\">分享</text></svg></svg><line stroke=\"black\" x1=\"50%\" x2=\"50%\" y1=\"1.2em\" y2=\"3em\" /></svg><line stroke=\"black\" x1=\"50%\" x2=\"5.88235%\" y1=\"1.2em\" y2=\"3em\" /><svg width=\"88.2353%\" x=\"11.7647%\" y=\"3em\"><defs /><svg width=\"100%\" x=\"0\" y=\"0em\"><defs /><text text-anchor=\"middle\" x=\"50%\" y=\"1em\">VP</text></svg><svg width=\"86.6667%\" x=\"0%\" y=\"3em\"><defs /><svg width=\"100%\" x=\"0\" y=\"0em\"><defs /><text text-anchor=\"middle\" x=\"50%\" y=\"1em\">PP</text></svg><svg width=\"15.3846%\" x=\"0%\" y=\"3em\"><defs /><svg width=\"100%\" x=\"0\" y=\"0em\"><defs /><text text-anchor=\"middle\" x=\"50%\" y=\"1em\">VV</text></svg><svg width=\"100%\" x=\"0%\" y=\"3em\"><defs /><svg width=\"100%\" x=\"0\" y=\"0em\"><defs /><text text-anchor=\"middle\" x=\"50%\" y=\"1em\">给</text></svg></svg><line stroke=\"black\" x1=\"50%\" x2=\"50%\" y1=\"1.2em\" y2=\"3em\" /></svg><line stroke=\"black\" x1=\"50%\" x2=\"7.69231%\" y1=\"1.2em\" y2=\"3em\" /><svg width=\"84.6154%\" x=\"15.3846%\" y=\"3em\"><defs /><svg width=\"100%\" x=\"0\" y=\"0em\"><defs /><text text-anchor=\"middle\" x=\"50%\" y=\"1em\">NP</text></svg><svg width=\"45.4545%\" x=\"0%\" y=\"3em\"><defs /><svg width=\"100%\" x=\"0\" y=\"0em\"><defs /><text text-anchor=\"middle\" x=\"50%\" y=\"1em\">NP</text></svg><svg width=\"60%\" x=\"0%\" y=\"3em\"><defs /><svg width=\"100%\" x=\"0\" y=\"0em\"><defs /><text text-anchor=\"middle\" x=\"50%\" y=\"1em\">ADJP</text></svg><svg width=\"100%\" x=\"0%\" y=\"3em\"><defs /><svg width=\"100%\" x=\"0\" y=\"0em\"><defs /><text text-anchor=\"middle\" x=\"50%\" y=\"1em\">JJ</text></svg><svg width=\"100%\" x=\"0%\" y=\"3em\"><defs /><svg width=\"100%\" x=\"0\" y=\"0em\"><defs /><text text-anchor=\"middle\" x=\"50%\" y=\"1em\">新进</text></svg></svg><line stroke=\"black\" x1=\"50%\" x2=\"50%\" y1=\"1.2em\" y2=\"3em\" /></svg><line stroke=\"black\" x1=\"50%\" x2=\"50%\" y1=\"1.2em\" y2=\"3em\" /></svg><line stroke=\"black\" x1=\"50%\" x2=\"30%\" y1=\"1.2em\" y2=\"3em\" /><svg width=\"40%\" x=\"60%\" y=\"3em\"><defs /><svg width=\"100%\" x=\"0\" y=\"0em\"><defs /><text text-anchor=\"middle\" x=\"50%\" y=\"1em\">NP</text></svg><svg width=\"100%\" x=\"0%\" y=\"3em\"><defs /><svg width=\"100%\" x=\"0\" y=\"0em\"><defs /><text text-anchor=\"middle\" x=\"50%\" y=\"1em\">NN</text></svg><svg width=\"100%\" x=\"0%\" y=\"3em\"><defs /><svg width=\"100%\" x=\"0\" y=\"0em\"><defs /><text text-anchor=\"middle\" x=\"50%\" y=\"1em\">住民</text></svg></svg><line stroke=\"black\" x1=\"50%\" x2=\"50%\" y1=\"1.2em\" y2=\"3em\" /></svg><line stroke=\"black\" x1=\"50%\" x2=\"50%\" y1=\"1.2em\" y2=\"3em\" /></svg><line stroke=\"black\" x1=\"50%\" x2=\"80%\" y1=\"1.2em\" y2=\"3em\" /></svg><line stroke=\"black\" x1=\"50%\" x2=\"22.7273%\" y1=\"1.2em\" y2=\"3em\" /><svg width=\"18.1818%\" x=\"45.4545%\" y=\"3em\"><defs /><svg width=\"100%\" x=\"0\" y=\"0em\"><defs /><text text-anchor=\"middle\" x=\"50%\" y=\"1em\">CC</text></svg><svg width=\"100%\" x=\"0%\" y=\"3em\"><defs /><svg width=\"100%\" x=\"0\" y=\"0em\"><defs /><text text-anchor=\"middle\" x=\"50%\" y=\"1em\">以及</text></svg></svg><line stroke=\"black\" x1=\"50%\" x2=\"50%\" y1=\"1.2em\" y2=\"3em\" /></svg><line stroke=\"black\" x1=\"50%\" x2=\"54.5455%\" y1=\"1.2em\" y2=\"3em\" /><svg width=\"36.3636%\" x=\"63.6364%\" y=\"3em\"><defs /><svg width=\"100%\" x=\"0\" y=\"0em\"><defs /><text text-anchor=\"middle\" x=\"50%\" y=\"1em\">NP</text></svg><svg width=\"50%\" x=\"0%\" y=\"3em\"><defs /><svg width=\"100%\" x=\"0\" y=\"0em\"><defs /><text text-anchor=\"middle\" x=\"50%\" y=\"1em\">NN</text></svg><svg width=\"100%\" x=\"0%\" y=\"3em\"><defs /><svg width=\"100%\" x=\"0\" y=\"0em\"><defs /><text text-anchor=\"middle\" x=\"50%\" y=\"1em\">研究</text></svg></svg><line stroke=\"black\" x1=\"50%\" x2=\"50%\" y1=\"1.2em\" y2=\"3em\" /></svg><line stroke=\"black\" x1=\"50%\" x2=\"25%\" y1=\"1.2em\" y2=\"3em\" /><svg width=\"50%\" x=\"50%\" y=\"3em\"><defs /><svg width=\"100%\" x=\"0\" y=\"0em\"><defs /><text text-anchor=\"middle\" x=\"50%\" y=\"1em\">NN</text></svg><svg width=\"100%\" x=\"0%\" y=\"3em\"><defs /><svg width=\"100%\" x=\"0\" y=\"0em\"><defs /><text text-anchor=\"middle\" x=\"50%\" y=\"1em\">人员</text></svg></svg><line stroke=\"black\" x1=\"50%\" x2=\"50%\" y1=\"1.2em\" y2=\"3em\" /></svg><line stroke=\"black\" x1=\"50%\" x2=\"75%\" y1=\"1.2em\" y2=\"3em\" /></svg><line stroke=\"black\" x1=\"50%\" x2=\"81.8182%\" y1=\"1.2em\" y2=\"3em\" /></svg><line stroke=\"black\" x1=\"50%\" x2=\"57.6923%\" y1=\"1.2em\" y2=\"3em\" /></svg><line stroke=\"black\" x1=\"50%\" x2=\"43.3333%\" y1=\"1.2em\" y2=\"3em\" /><svg width=\"13.3333%\" x=\"86.6667%\" y=\"3em\"><defs /><svg width=\"100%\" x=\"0\" y=\"0em\"><defs /><text text-anchor=\"middle\" x=\"50%\" y=\"1em\">VP</text></svg><svg width=\"100%\" x=\"0%\" y=\"3em\"><defs /><svg width=\"100%\" x=\"0\" y=\"0em\"><defs /><text text-anchor=\"middle\" x=\"50%\" y=\"1em\">VV</text></svg><svg width=\"100%\" x=\"0%\" y=\"3em\"><defs /><svg width=\"100%\" x=\"0\" y=\"0em\"><defs /><text text-anchor=\"middle\" x=\"50%\" y=\"1em\">参考</text></svg></svg><line stroke=\"black\" x1=\"50%\" x2=\"50%\" y1=\"1.2em\" y2=\"3em\" /></svg><line stroke=\"black\" x1=\"50%\" x2=\"50%\" y1=\"1.2em\" y2=\"3em\" /></svg><line stroke=\"black\" x1=\"50%\" x2=\"93.3333%\" y1=\"1.2em\" y2=\"3em\" /></svg><line stroke=\"black\" x1=\"50%\" x2=\"55.8824%\" y1=\"1.2em\" y2=\"3em\" /></svg><line stroke=\"black\" x1=\"50%\" x2=\"44.7368%\" y1=\"1.2em\" y2=\"3em\" /><svg width=\"10.5263%\" x=\"89.4737%\" y=\"3em\"><defs /><svg width=\"100%\" x=\"0\" y=\"0em\"><defs /><text text-anchor=\"middle\" x=\"50%\" y=\"1em\">PU</text></svg><svg width=\"100%\" x=\"0%\" y=\"3em\"><defs /><svg width=\"100%\" x=\"0\" y=\"0em\"><defs /><text text-anchor=\"middle\" x=\"50%\" y=\"1em\">。</text></svg></svg><line stroke=\"black\" x1=\"50%\" x2=\"50%\" y1=\"1.2em\" y2=\"3em\" /></svg><line stroke=\"black\" x1=\"50%\" x2=\"94.7368%\" y1=\"1.2em\" y2=\"3em\" /></svg><line stroke=\"black\" x1=\"50%\" x2=\"50%\" y1=\"1.2em\" y2=\"3em\" /></svg>"
      ],
      "text/plain": [
       "TreeLayout(('ROOT', ('IP', ('VP', ('VV', '分享'), ('VP', ('PP', ('VV', '给'), ('NP', ('NP', ('ADJP', ('JJ', '新进')), ('NP', ('NN', '住民'))), ('CC', '以及'), ('NP', ('NN', '研究'), ('NN', '人员')))), ('VP', ('VV', '参考')))), ('PU', '。'))))"
      ]
     },
     "execution_count": 9,
     "metadata": {},
     "output_type": "execute_result"
    }
   ],
   "source": [
    "import svgling\n",
    "svgling.draw_tree(to_linear(sent0.parseTree))"
   ]
  },
  {
   "cell_type": "markdown",
   "id": "532fffff-ee61-4ea7-a945-a0bcce608ae1",
   "metadata": {},
   "source": [
    "## Post processing asbc_compounds"
   ]
  },
  {
   "cell_type": "code",
   "execution_count": 10,
   "id": "f8ec6b03-ad84-498d-8889-06561d6c09e1",
   "metadata": {},
   "outputs": [],
   "source": [
    "import pandas as pd\n",
    "npc = pd.read_csv(\"../data/asbc_compounds.csv\", index_col=0)"
   ]
  },
  {
   "cell_type": "code",
   "execution_count": 27,
   "id": "d57b3a6d-bb91-4b77-8f96-499d4c04b882",
   "metadata": {},
   "outputs": [
    {
     "data": {
      "text/html": [
       "<div>\n",
       "<style scoped>\n",
       "    .dataframe tbody tr th:only-of-type {\n",
       "        vertical-align: middle;\n",
       "    }\n",
       "\n",
       "    .dataframe tbody tr th {\n",
       "        vertical-align: top;\n",
       "    }\n",
       "\n",
       "    .dataframe thead th {\n",
       "        text-align: right;\n",
       "    }\n",
       "</style>\n",
       "<table border=\"1\" class=\"dataframe\">\n",
       "  <thead>\n",
       "    <tr style=\"text-align: right;\">\n",
       "      <th></th>\n",
       "      <th>np</th>\n",
       "      <th>nptype</th>\n",
       "      <th>w1</th>\n",
       "      <th>w2</th>\n",
       "      <th>p1</th>\n",
       "      <th>p2</th>\n",
       "      <th>freq</th>\n",
       "    </tr>\n",
       "    <tr>\n",
       "      <th>idx</th>\n",
       "      <th></th>\n",
       "      <th></th>\n",
       "      <th></th>\n",
       "      <th></th>\n",
       "      <th></th>\n",
       "      <th></th>\n",
       "      <th></th>\n",
       "    </tr>\n",
       "  </thead>\n",
       "  <tbody>\n",
       "    <tr>\n",
       "      <th>0</th>\n",
       "      <td>领袖会议</td>\n",
       "      <td>22</td>\n",
       "      <td>领袖</td>\n",
       "      <td>会议</td>\n",
       "      <td>NN</td>\n",
       "      <td>NN</td>\n",
       "      <td>28</td>\n",
       "    </tr>\n",
       "    <tr>\n",
       "      <th>1</th>\n",
       "      <td>研究人员</td>\n",
       "      <td>22</td>\n",
       "      <td>研究</td>\n",
       "      <td>人员</td>\n",
       "      <td>NN</td>\n",
       "      <td>NN</td>\n",
       "      <td>21</td>\n",
       "    </tr>\n",
       "    <tr>\n",
       "      <th>2</th>\n",
       "      <td>活动中心</td>\n",
       "      <td>22</td>\n",
       "      <td>活动</td>\n",
       "      <td>中心</td>\n",
       "      <td>NN</td>\n",
       "      <td>NN</td>\n",
       "      <td>20</td>\n",
       "    </tr>\n",
       "    <tr>\n",
       "      <th>3</th>\n",
       "      <td>学术研究</td>\n",
       "      <td>22</td>\n",
       "      <td>学术</td>\n",
       "      <td>研究</td>\n",
       "      <td>NN</td>\n",
       "      <td>NN</td>\n",
       "      <td>14</td>\n",
       "    </tr>\n",
       "    <tr>\n",
       "      <th>4</th>\n",
       "      <td>领域名称</td>\n",
       "      <td>22</td>\n",
       "      <td>领域</td>\n",
       "      <td>名称</td>\n",
       "      <td>NN</td>\n",
       "      <td>NN</td>\n",
       "      <td>13</td>\n",
       "    </tr>\n",
       "    <tr>\n",
       "      <th>...</th>\n",
       "      <td>...</td>\n",
       "      <td>...</td>\n",
       "      <td>...</td>\n",
       "      <td>...</td>\n",
       "      <td>...</td>\n",
       "      <td>...</td>\n",
       "      <td>...</td>\n",
       "    </tr>\n",
       "    <tr>\n",
       "      <th>2831</th>\n",
       "      <td>竞选文宣</td>\n",
       "      <td>22</td>\n",
       "      <td>竞选</td>\n",
       "      <td>文宣</td>\n",
       "      <td>NN</td>\n",
       "      <td>NN</td>\n",
       "      <td>1</td>\n",
       "    </tr>\n",
       "    <tr>\n",
       "      <th>2832</th>\n",
       "      <td>大学诗乡</td>\n",
       "      <td>22</td>\n",
       "      <td>大学</td>\n",
       "      <td>诗乡</td>\n",
       "      <td>NN</td>\n",
       "      <td>NN</td>\n",
       "      <td>1</td>\n",
       "    </tr>\n",
       "    <tr>\n",
       "      <th>2833</th>\n",
       "      <td>主管时间</td>\n",
       "      <td>22</td>\n",
       "      <td>主管</td>\n",
       "      <td>时间</td>\n",
       "      <td>NN</td>\n",
       "      <td>NN</td>\n",
       "      <td>1</td>\n",
       "    </tr>\n",
       "    <tr>\n",
       "      <th>2834</th>\n",
       "      <td>教育时空</td>\n",
       "      <td>22</td>\n",
       "      <td>教育</td>\n",
       "      <td>时空</td>\n",
       "      <td>NN</td>\n",
       "      <td>NN</td>\n",
       "      <td>1</td>\n",
       "    </tr>\n",
       "    <tr>\n",
       "      <th>2835</th>\n",
       "      <td>侦查期间</td>\n",
       "      <td>22</td>\n",
       "      <td>侦查</td>\n",
       "      <td>期间</td>\n",
       "      <td>NN</td>\n",
       "      <td>NN</td>\n",
       "      <td>1</td>\n",
       "    </tr>\n",
       "  </tbody>\n",
       "</table>\n",
       "<p>2836 rows × 7 columns</p>\n",
       "</div>"
      ],
      "text/plain": [
       "        np  nptype  w1  w2  p1  p2  freq\n",
       "idx                                     \n",
       "0     领袖会议      22  领袖  会议  NN  NN    28\n",
       "1     研究人员      22  研究  人员  NN  NN    21\n",
       "2     活动中心      22  活动  中心  NN  NN    20\n",
       "3     学术研究      22  学术  研究  NN  NN    14\n",
       "4     领域名称      22  领域  名称  NN  NN    13\n",
       "...    ...     ...  ..  ..  ..  ..   ...\n",
       "2831  竞选文宣      22  竞选  文宣  NN  NN     1\n",
       "2832  大学诗乡      22  大学  诗乡  NN  NN     1\n",
       "2833  主管时间      22  主管  时间  NN  NN     1\n",
       "2834  教育时空      22  教育  时空  NN  NN     1\n",
       "2835  侦查期间      22  侦查  期间  NN  NN     1\n",
       "\n",
       "[2836 rows x 7 columns]"
      ]
     },
     "execution_count": 27,
     "metadata": {},
     "output_type": "execute_result"
    }
   ],
   "source": [
    "asbc_compounds_nn2 = npc.loc[(npc.nptype==22) & ((npc.p1==\"NN\") & (npc.p2==\"NN\")), :].reset_index(drop=True)\n",
    "asbc_compounds_nn2.index.name = \"idx\"\n",
    "asbc_compounds_nn2"
   ]
  },
  {
   "cell_type": "code",
   "execution_count": 28,
   "id": "6475ce09-0b38-4314-8762-de05aa7de587",
   "metadata": {},
   "outputs": [],
   "source": [
    "asbc_compounds_nn2.to_csv(\"../data/asbc_compounds_nn2.csv\")"
   ]
  },
  {
   "cell_type": "code",
   "execution_count": null,
   "id": "f0b183c3-c18a-4939-a9c4-7e1bf0c5535b",
   "metadata": {},
   "outputs": [],
   "source": []
  }
 ],
 "metadata": {
  "kernelspec": {
   "display_name": "Python 3 (ipykernel)",
   "language": "python",
   "name": "python3"
  },
  "language_info": {
   "codemirror_mode": {
    "name": "ipython",
    "version": 3
   },
   "file_extension": ".py",
   "mimetype": "text/x-python",
   "name": "python",
   "nbconvert_exporter": "python",
   "pygments_lexer": "ipython3",
   "version": "3.9.5"
  }
 },
 "nbformat": 4,
 "nbformat_minor": 5
}
